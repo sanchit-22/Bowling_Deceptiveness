{
  "nbformat": 4,
  "nbformat_minor": 0,
  "metadata": {
    "colab": {
      "provenance": []
    },
    "kernelspec": {
      "name": "python3",
      "display_name": "Python 3"
    },
    "language_info": {
      "name": "python"
    }
  },
  "cells": [
    {
      "cell_type": "markdown",
      "source": [
        "# Logistic Regression"
      ],
      "metadata": {
        "id": "e744mOxs9eDO"
      }
    },
    {
      "cell_type": "code",
      "source": [
        "import joblib\n",
        "import numpy as np\n",
        "from sklearn.preprocessing import LabelEncoder\n",
        "\n",
        "# Load shared label encoder\n",
        "label_encoder = joblib.load(\"label_encoder.pkl\")\n",
        "valid_bowler_types = list(label_encoder.classes_)\n",
        "\n",
        "# Prompt for number of deliveries\n",
        "while True:\n",
        "    try:\n",
        "        seq_len = int(input(\"How many deliveries have been bowled? (1 to 5): \"))\n",
        "        if 1 <= seq_len <= 5:\n",
        "            break\n",
        "        print(\"❌ Please enter a number between 1 and 5.\")\n",
        "    except ValueError:\n",
        "        print(\"❌ Invalid input. Please enter an integer.\")\n",
        "\n",
        "# Collect delivery inputs\n",
        "def get_validated_delivery_input(index):\n",
        "    print(f\"\\nEnter details for delivery #{index + 1}:\")\n",
        "\n",
        "    def get_float(prompt):\n",
        "        while True:\n",
        "            try:\n",
        "                return float(input(prompt))\n",
        "            except ValueError:\n",
        "                print(\"  ❌ Invalid number. Try again.\")\n",
        "\n",
        "    landing_x = get_float(\"  landing_x: \")\n",
        "    landing_y = get_float(\"  landing_y: \")\n",
        "    ended_x = get_float(\"  ended_x: \")\n",
        "    ended_y = get_float(\"  ended_y: \")\n",
        "    ball_speed = get_float(\"  ball_speed (km/h): \")\n",
        "    ovr = get_float(\"  over (e.g., 2.3 for 3rd ball of 3rd over): \")\n",
        "\n",
        "    while True:\n",
        "        bowler_type = input(f\"  bowler_type {valid_bowler_types}: \")\n",
        "        if bowler_type in valid_bowler_types:\n",
        "            break\n",
        "        print(\"  ❌ Invalid bowler_type. Choose from the list above.\")\n",
        "\n",
        "    encoded_type = label_encoder.transform([bowler_type])[0]\n",
        "    return [landing_x, landing_y, ended_x, ended_y, ball_speed, encoded_type, ovr]\n",
        "\n",
        "# Gather inputs\n",
        "manual_inputs = [get_validated_delivery_input(i) for i in range(seq_len)]\n",
        "sequence = np.array(manual_inputs, dtype=np.float32)\n",
        "\n",
        "# Load appropriate scaler and apply it\n",
        "try:\n",
        "    scaler = joblib.load(f\"scaler_seq{seq_len}.pkl\")\n",
        "except FileNotFoundError:\n",
        "    print(f\"❌ No trained scaler found for seq_len={seq_len}. Please run training first.\")\n",
        "    exit()\n",
        "\n",
        "numerical_indices = [0, 1, 2, 3, 4, 6]\n",
        "for i in numerical_indices:\n",
        "    sequence[:, i] = scaler.transform(sequence[:, i].reshape(-1, 1)).reshape(-1)\n",
        "\n",
        "# Flatten and predict\n",
        "input_vector = sequence.flatten().reshape(1, -1)\n",
        "try:\n",
        "    model = joblib.load(f\"logistic_regression_seq{seq_len}.pkl\")\n",
        "except FileNotFoundError:\n",
        "    print(f\"❌ No trained model found for seq_len={seq_len}. Please run training first.\")\n",
        "    exit()\n",
        "\n",
        "prediction = model.predict(input_vector)[0]\n",
        "probability = model.predict_proba(input_vector)[0][1]\n",
        "\n",
        "# Show result\n",
        "print(\"\\n🧠 Prediction Result:\")\n",
        "print(\"  ✅ Predicted class for the Next delivery: \", \"Deceptive\" if prediction == 1 else \"Not Deceptive\")\n",
        "print(f\"  🔍 Confidence of Result: {probability * 100:.2f}%\")\n"
      ],
      "metadata": {
        "colab": {
          "base_uri": "https://localhost:8080/"
        },
        "id": "n2DGS2R1hem2",
        "outputId": "478020b9-c1a2-48ab-a0e7-1e315a0a2fee"
      },
      "execution_count": null,
      "outputs": [
        {
          "output_type": "stream",
          "name": "stdout",
          "text": [
            "How many deliveries have been bowled? (1 to 5): 1\n",
            "\n",
            "Enter details for delivery #1:\n",
            "  landing_x: 1.2\n",
            "  landing_y: 2.3\n",
            "  ended_x: 1.4\n",
            "  ended_y: 1.4\n",
            "  ball_speed (km/h): 123\n",
            "  over (e.g., 2.3 for 3rd ball of 3rd over): Fast\n",
            "  ❌ Invalid number. Try again.\n",
            "  over (e.g., 2.3 for 3rd ball of 3rd over): 2.1\n",
            "  bowler_type ['Fast', 'Medium', 'Spin', 'Unknown']: Fast\n",
            "\n",
            "🧠 Prediction Result:\n",
            "  ✅ Predicted class for the LAST delivery:  Not Deceptive\n",
            "  🔍 Confidence of being deceptive: 4.83%\n"
          ]
        }
      ]
    },
    {
      "cell_type": "markdown",
      "source": [
        "# LSTM Model"
      ],
      "metadata": {
        "id": "z2VPydiJKOkB"
      }
    },
    {
      "cell_type": "code",
      "source": [
        "import numpy as np\n",
        "import joblib\n",
        "from tensorflow.keras.models import load_model\n",
        "from sklearn.preprocessing import LabelEncoder\n",
        "\n",
        "# Load label encoder\n",
        "label_encoder = joblib.load(\"label_encoder.pkl\")\n",
        "valid_bowler_types = list(label_encoder.classes_)\n",
        "\n",
        "# Get user-defined sequence length\n",
        "while True:\n",
        "    try:\n",
        "        seq_len = int(input(\"How many deliveries have been bowled? (1 to 5): \"))\n",
        "        if 1 <= seq_len <= 5:\n",
        "            break\n",
        "        print(\"❌ Please enter a number between 1 and 5.\")\n",
        "    except ValueError:\n",
        "        print(\"❌ Invalid input. Please enter an integer.\")\n",
        "\n",
        "# Get input features for each delivery\n",
        "def get_validated_delivery_input(index):\n",
        "    print(f\"\\nEnter details for delivery #{index + 1}:\")\n",
        "\n",
        "    def get_float(prompt):\n",
        "        while True:\n",
        "            try:\n",
        "                return float(input(prompt))\n",
        "            except ValueError:\n",
        "                print(\"  ❌ Invalid number. Try again.\")\n",
        "\n",
        "    landing_x = get_float(\"  landing_x: \")\n",
        "    landing_y = get_float(\"  landing_y: \")\n",
        "    ended_x = get_float(\"  ended_x: \")\n",
        "    ended_y = get_float(\"  ended_y: \")\n",
        "    ball_speed = get_float(\"  ball_speed (km/h): \")\n",
        "    ovr = get_float(\"  over (e.g., 2.3 for 3rd ball of 3rd over): \")\n",
        "\n",
        "    while True:\n",
        "        bowler_type = input(f\"  bowler_type {valid_bowler_types}: \")\n",
        "        if bowler_type in valid_bowler_types:\n",
        "            break\n",
        "        print(\"  ❌ Invalid bowler_type. Choose from the list above.\")\n",
        "\n",
        "    encoded_type = label_encoder.transform([bowler_type])[0]\n",
        "    return [landing_x, landing_y, ended_x, ended_y, ball_speed, encoded_type, ovr]\n",
        "\n",
        "manual_inputs = [get_validated_delivery_input(i) for i in range(seq_len)]\n",
        "sequence = np.array(manual_inputs, dtype=np.float32)\n",
        "\n",
        "# Scale numeric inputs\n",
        "try:\n",
        "    scaler = joblib.load(f\"scaler_lstm_seq{seq_len}.pkl\")\n",
        "except FileNotFoundError:\n",
        "    print(f\"❌ Scaler not found for seq_len={seq_len}. Run training first.\")\n",
        "    exit()\n",
        "\n",
        "for i in [0, 1, 2, 3, 4, 6]:\n",
        "    sequence[:, i] = scaler.transform(sequence[:, i].reshape(-1, 1)).reshape(-1)\n",
        "\n",
        "# Reshape to 3D for LSTM: (1, seq_len, features)\n",
        "input_vector = sequence.reshape(1, seq_len, -1)\n",
        "\n",
        "# Load and predict using the LSTM model\n",
        "try:\n",
        "    model = load_model(f\"lstm_model_seq{seq_len}.h5\")\n",
        "except FileNotFoundError:\n",
        "    print(f\"❌ LSTM model not found for seq_len={seq_len}. Run training first.\")\n",
        "    exit()\n",
        "\n",
        "probability = model.predict(input_vector)[0][0]\n",
        "prediction = int(probability > 0.5)\n",
        "\n",
        "# Output\n",
        "print(\"\\n🧠 LSTM Prediction Result:\")\n",
        "print(\"  ✅ Predicted class for the Next delivery: \", \"Deceptive\" if prediction == 1 else \"Not Deceptive\")\n",
        "print(f\"  🔍 Confidence of Result: {probability * 100:.2f}%\")\n"
      ],
      "metadata": {
        "colab": {
          "base_uri": "https://localhost:8080/"
        },
        "id": "K6YD6WFQKRs7",
        "outputId": "419c7d8d-0246-4c6c-becf-b5d24acfb1b6"
      },
      "execution_count": 2,
      "outputs": [
        {
          "name": "stdout",
          "output_type": "stream",
          "text": [
            "How many deliveries have been bowled? (1 to 5): 1\n",
            "\n",
            "Enter details for delivery #1:\n",
            "  landing_x: 1.2\n",
            "  landing_y: 1.3\n",
            "  ended_x: -1.4\n",
            "  ended_y: -1.5\n",
            "  ball_speed (km/h): 134\n",
            "  over (e.g., 2.3 for 3rd ball of 3rd over): 2.1\n",
            "  bowler_type ['Fast', 'Medium', 'Spin', 'Unknown']: Medium\n"
          ]
        },
        {
          "output_type": "stream",
          "name": "stderr",
          "text": [
            "WARNING:absl:Compiled the loaded model, but the compiled metrics have yet to be built. `model.compile_metrics` will be empty until you train or evaluate the model.\n"
          ]
        },
        {
          "output_type": "stream",
          "name": "stdout",
          "text": [
            "\u001b[1m1/1\u001b[0m \u001b[32m━━━━━━━━━━━━━━━━━━━━\u001b[0m\u001b[37m\u001b[0m \u001b[1m0s\u001b[0m 304ms/step\n",
            "\n",
            "🧠 LSTM Prediction Result:\n",
            "  ✅ Predicted class for the LAST delivery:  Not Deceptive\n",
            "  🔍 Confidence of Result: 28.93%\n"
          ]
        }
      ]
    }
  ]
}